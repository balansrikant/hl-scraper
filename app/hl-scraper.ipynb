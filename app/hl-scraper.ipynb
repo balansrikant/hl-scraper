{
 "cells": [
  {
   "cell_type": "code",
   "execution_count": 1,
   "metadata": {},
   "outputs": [
    {
     "name": "stdout",
     "output_type": "stream",
     "text": [
      "\n",
      "     active environment : hl-scraper\n",
      "    active env location : C:\\ProgramData\\Anaconda3\\envs\\hl-scraper\n",
      "            shell level : 2\n",
      "       user config file : C:\\Users\\globetrekker\\.condarc\n",
      " populated config files : C:\\Users\\globetrekker\\.condarc\n",
      "          conda version : 4.10.1\n",
      "    conda-build version : 3.21.4\n",
      "         python version : 3.8.8.final.0\n",
      "       virtual packages : __win=0=0\n",
      "                          __archspec=1=x86_64\n",
      "       base environment : C:\\ProgramData\\Anaconda3  (writable)\n",
      "      conda av data dir : C:\\ProgramData\\Anaconda3\\etc\\conda\n",
      "  conda av metadata url : https://repo.anaconda.com/pkgs/main\n",
      "           channel URLs : https://repo.anaconda.com/pkgs/main/win-64\n",
      "                          https://repo.anaconda.com/pkgs/main/noarch\n",
      "                          https://repo.anaconda.com/pkgs/r/win-64\n",
      "                          https://repo.anaconda.com/pkgs/r/noarch\n",
      "                          https://repo.anaconda.com/pkgs/msys2/win-64\n",
      "                          https://repo.anaconda.com/pkgs/msys2/noarch\n",
      "          package cache : C:\\ProgramData\\Anaconda3\\pkgs\n",
      "                          C:\\Users\\globetrekker\\.conda\\pkgs\n",
      "                          C:\\Users\\globetrekker\\AppData\\Local\\conda\\conda\\pkgs\n",
      "       envs directories : C:\\ProgramData\\Anaconda3\\envs\n",
      "                          C:\\Users\\globetrekker\\.conda\\envs\n",
      "                          C:\\Users\\globetrekker\\AppData\\Local\\conda\\conda\\envs\n",
      "               platform : win-64\n",
      "             user-agent : conda/4.10.1 requests/2.25.1 CPython/3.8.8 Windows/10 Windows/10.0.19041\n",
      "          administrator : False\n",
      "             netrc file : None\n",
      "           offline mode : False\n",
      "\n"
     ]
    }
   ],
   "source": [
    "!conda info"
   ]
  },
  {
   "cell_type": "code",
   "execution_count": 1,
   "metadata": {},
   "outputs": [],
   "source": [
    "import os"
   ]
  },
  {
   "cell_type": "code",
   "execution_count": 30,
   "metadata": {},
   "outputs": [
    {
     "data": {
      "text/plain": [
       "[{'date': '2021-09-22',\n",
       "  'stock': 'ABERDEEN STANDARD GLOBAL INNOVATION EQUIT CLASS R2 - ACCUMULATION (GBP)'},\n",
       " {'date': '2021-09-22',\n",
       "  'stock': 'ARTEMIS GLOBAL INCOME CLASS I - INCOME (GBP)'},\n",
       " {'date': '2021-09-22',\n",
       "  'stock': 'ARTEMIS US SMALLER COMPANIES CLASS I - ACCUMULATION (GBP)'},\n",
       " {'date': '2021-09-22',\n",
       "  'stock': 'ASI ASIA PACIFIC EQUITY CLASS I - ACCUMULATION (GBP)'},\n",
       " {'date': '2021-09-22',\n",
       "  'stock': 'ASI GLOBAL SMALLER COMPANIES CLASS S - ACCUMULATION (GBP)'},\n",
       " {'date': '2021-09-22',\n",
       "  'stock': 'BAILLIE GIFFORD AMERICAN CLASS B - INCOME (GBP)'},\n",
       " {'date': '2021-09-22',\n",
       "  'stock': 'BAILLIE GIFFORD MANAGED CLASS B - ACCUMULATION (GBP)'},\n",
       " {'date': '2021-09-22',\n",
       "  'stock': 'EDENTREE HIGHER INCOME FUND CLASS B - INCOME (GBP)'},\n",
       " {'date': '2021-09-22',\n",
       "  'stock': 'FIDELITY FIRST EUROPEAN VALUE CLASS Y - ACCUMULATION (EUR)'},\n",
       " {'date': '2021-09-22',\n",
       "  'stock': 'FIDELITY GLOBAL TECHNOLOGY CLASS W - ACCUMULATION (GBP)'},\n",
       " {'date': '2021-09-22',\n",
       "  'stock': 'FIDELITY GLOBAL TECHNOLOGY CLASS Y - ACCUMULATION (EUR)'},\n",
       " {'date': '2021-09-22',\n",
       "  'stock': 'FIDELITY INDEX WORLD CLASS P - ACCUMULATION (GBP)'},\n",
       " {'date': '2021-09-22',\n",
       "  'stock': 'FIDELITY SPECIAL SITUATIONS CLASS W - ACCUMULATION (GBP)'},\n",
       " {'date': '2021-09-22',\n",
       "  'stock': 'FSSA JAPAN FOCUS CLASS B CLASS B - ACCUMULATION (GBP)'},\n",
       " {'date': '2021-09-22', 'stock': 'JUPITER INCOME CLASS Z - INCOME (GBP)'},\n",
       " {'date': '2021-09-22',\n",
       "  'stock': 'LEGAL & GENERAL ALL STOCKS GILT INDEX TRUST CLASS C - INCOME (GBP)'},\n",
       " {'date': '2021-09-22',\n",
       "  'stock': 'LEGAL & GENERAL UK 100 INDEX TRUST CLASS C - ACCUMULATION (GBP)'},\n",
       " {'date': '2021-09-22',\n",
       "  'stock': 'LEGAL & GENERAL UK 100 INDEX TRUST CLASS C - INCOME (GBP)'},\n",
       " {'date': '2021-09-22',\n",
       "  'stock': 'LEGAL & GENERAL UK MID CAP INDEX CLASS I - ACCUMULATION (GBP)'},\n",
       " {'date': '2021-09-22',\n",
       "  'stock': 'LEGAL & GENERAL US INDEX CLASS C - ACCUMULATION (GBP)'},\n",
       " {'date': '2021-09-22',\n",
       "  'stock': 'LF MAJEDIE UK EQUITY CLASS X - ACCUMULATION (GBP)'},\n",
       " {'date': '2021-09-22',\n",
       "  'stock': 'LF MAJEDIE UK EQUITY CLASS X - INCOME (GBP)'},\n",
       " {'date': '2021-09-22',\n",
       "  'stock': 'MAN GLG JAPAN COREALPHA PROFESSIONAL CLASS - INCOME (GBP)'},\n",
       " {'date': '2021-09-22',\n",
       "  'stock': 'RATHBONE GLOBAL OPPORTUNITIES CLASS S - ACCUMULATION (GBP)'},\n",
       " {'date': '2021-09-22',\n",
       "  'stock': 'THREADNEEDLE UK EQUITY INCOME CLASS L- ACCUMULATION (GBP)'},\n",
       " {'date': '2021-11-20',\n",
       "  'stock': 'ABERDEEN STANDARD GLOBAL INNOVATION EQUIT CLASS R2 - ACCUMULATION (GBP)'},\n",
       " {'date': '2021-11-20', 'stock': 'AMAZON.COM INC. (AMZN) COM STK'},\n",
       " {'date': '2021-11-20',\n",
       "  'stock': 'ARTEMIS GLOBAL INCOME CLASS I - INCOME (GBP)'},\n",
       " {'date': '2021-11-20',\n",
       "  'stock': 'ARTEMIS US SMALLER COMPANIES CLASS I - ACCUMULATION (GBP)'},\n",
       " {'date': '2021-11-20',\n",
       "  'stock': 'ASI ASIA PACIFIC EQUITY CLASS I - ACCUMULATION (GBP)'},\n",
       " {'date': '2021-11-20',\n",
       "  'stock': 'ASI GLOBAL SMALLER COMPANIES CLASS S - ACCUMULATION (GBP)'},\n",
       " {'date': '2021-11-20',\n",
       "  'stock': 'BAILLIE GIFFORD AMERICAN CLASS B - INCOME (GBP)'},\n",
       " {'date': '2021-11-20',\n",
       "  'stock': 'BAILLIE GIFFORD GLOBAL DISCOVERY CLASS B - INCOME (GBP)'},\n",
       " {'date': '2021-11-20',\n",
       "  'stock': 'BAILLIE GIFFORD MANAGED CLASS B - ACCUMULATION (GBP)'},\n",
       " {'date': '2021-11-20',\n",
       "  'stock': 'CHELVERTON UK EQUITY GROWTH CLASS B - ACCUMULATION (GBP)'},\n",
       " {'date': '2021-11-20',\n",
       "  'stock': 'EDENTREE HIGHER INCOME FUND CLASS B - INCOME (GBP)'},\n",
       " {'date': '2021-11-20',\n",
       "  'stock': 'FIDELITY FIRST EUROPEAN VALUE CLASS Y - ACCUMULATION (EUR)'},\n",
       " {'date': '2021-11-20',\n",
       "  'stock': 'FIDELITY GLOBAL TECHNOLOGY CLASS W - ACCUMULATION (GBP)'},\n",
       " {'date': '2021-11-20',\n",
       "  'stock': 'FIDELITY GLOBAL TECHNOLOGY CLASS Y - ACCUMULATION (EUR)'},\n",
       " {'date': '2021-11-20',\n",
       "  'stock': 'FIDELITY INDEX WORLD CLASS P - ACCUMULATION (GBP)'},\n",
       " {'date': '2021-11-20',\n",
       "  'stock': 'FIDELITY SPECIAL SITUATIONS CLASS W - ACCUMULATION (GBP)'},\n",
       " {'date': '2021-11-20',\n",
       "  'stock': 'FSSA JAPAN FOCUS CLASS B CLASS B - ACCUMULATION (GBP)'},\n",
       " {'date': '2021-11-20', 'stock': 'JUPITER INCOME CLASS Z - INCOME (GBP)'},\n",
       " {'date': '2021-11-20',\n",
       "  'stock': 'LEGAL & GENERAL UK 100 INDEX TRUST CLASS C - ACCUMULATION (GBP)'},\n",
       " {'date': '2021-11-20',\n",
       "  'stock': 'LEGAL & GENERAL UK 100 INDEX TRUST CLASS C - INCOME (GBP)'},\n",
       " {'date': '2021-11-20',\n",
       "  'stock': 'LEGAL & GENERAL UK MID CAP INDEX CLASS I - ACCUMULATION (GBP)'},\n",
       " {'date': '2021-11-20',\n",
       "  'stock': 'LEGAL & GENERAL US INDEX CLASS C - ACCUMULATION (GBP)'},\n",
       " {'date': '2021-11-20',\n",
       "  'stock': 'LF MAJEDIE UK EQUITY CLASS X - ACCUMULATION (GBP)'},\n",
       " {'date': '2021-11-20',\n",
       "  'stock': 'LF MAJEDIE UK EQUITY CLASS X - INCOME (GBP)'},\n",
       " {'date': '2021-11-20',\n",
       "  'stock': 'MAN GLG JAPAN COREALPHA PROFESSIONAL CLASS - INCOME (GBP)'},\n",
       " {'date': '2021-11-20', 'stock': 'MICROSOFT CORPORATION (MSFT) COMM STK'},\n",
       " {'date': '2021-11-20',\n",
       "  'stock': 'RATHBONE GLOBAL OPPORTUNITIES CLASS S - ACCUMULATION (GBP)'},\n",
       " {'date': '2021-11-20',\n",
       "  'stock': 'THREADNEEDLE UK EQUITY INCOME CLASS L- ACCUMULATION (GBP)'}]"
      ]
     },
     "execution_count": 30,
     "metadata": {},
     "output_type": "execute_result"
    }
   ],
   "source": [
    "path = '../HL/'\n",
    "folders = [(dn) for dp, dn, f in os.walk(path) if 'Investments' in dp]\n",
    "date_folders = folders[0]\n",
    "investments = []\n",
    "for inv_date in date_folders:\n",
    "    new_path = os.path.join(path, 'Investments', inv_date)\n",
    "    file_list_list = [f for dp, dn, f in os.walk(new_path) if dp == new_path]\n",
    "    \n",
    "    for file_list in file_list_list:\n",
    "        for file in file_list:\n",
    "            new_row = {'date': inv_date, 'stock': file.replace('.html', '')}\n",
    "            investments.append(new_row)\n",
    "\n",
    "investments\n"
   ]
  },
  {
   "cell_type": "code",
   "execution_count": 1,
   "metadata": {},
   "outputs": [],
   "source": [
    "import copy\n",
    "import os\n",
    "import pandas as pd\n",
    "import numpy as np\n",
    "# import matplotlib.pyplot as plt\n",
    "from unicodedata import normalize\n",
    "import datetime\n",
    "from os import listdir\n",
    "from os.path import isfile, join"
   ]
  },
  {
   "cell_type": "code",
   "execution_count": 2,
   "metadata": {},
   "outputs": [],
   "source": [
    "%config Completer.use_jedi = False\n",
    "pd.set_option(\"max_colwidth\", 100)"
   ]
  },
  {
   "cell_type": "code",
   "execution_count": 3,
   "metadata": {},
   "outputs": [],
   "source": [
    "# generate list of files\n",
    "root = 'D:\\\\MyDocuments\\\\Logs\\\\HL\\\\'"
   ]
  },
  {
   "cell_type": "markdown",
   "metadata": {},
   "source": [
    "## Table of contents <a id=\"0\"></a>\n",
    "* [Read files](#read-files)\n",
    "* [Process accounts](#process-accounts)\n",
    "* [Process investments](#process-investments)\n",
    "* [Security metadata](#security-metadata)\n",
    "* [Sector metadata](#sector-metadata)\n",
    "* [Country metadata](#country-metadata)\n"
   ]
  },
  {
   "cell_type": "markdown",
   "metadata": {},
   "source": [
    "### Read files <a name=\"read-files\"></a>\n",
    "[Go back to top](#0)"
   ]
  },
  {
   "cell_type": "markdown",
   "metadata": {},
   "source": [
    "#### Investments"
   ]
  },
  {
   "cell_type": "code",
   "execution_count": 5,
   "metadata": {},
   "outputs": [
    {
     "data": {
      "text/plain": [
       "[{'statement_date': 'D:\\\\MyDocuments\\\\Logs\\\\HL\\\\Investments\\\\2021-09-22',\n",
       "  'filename': 'ABERDEEN STANDARD GLOBAL INNOVATION EQUIT CLASS R2 - ACCUMULATION (GBP).html',\n",
       "  'original_full_path': 'D:\\\\MyDocuments\\\\Logs\\\\HL\\\\Investments\\\\2021-09-22\\\\ABERDEEN STANDARD GLOBAL INNOVATION EQUIT CLASS R2 - ACCUMULATION (GBP).html'},\n",
       " {'statement_date': 'D:\\\\MyDocuments\\\\Logs\\\\HL\\\\Investments\\\\2021-09-22',\n",
       "  'filename': 'ARTEMIS GLOBAL INCOME CLASS I - INCOME (GBP).html',\n",
       "  'original_full_path': 'D:\\\\MyDocuments\\\\Logs\\\\HL\\\\Investments\\\\2021-09-22\\\\ARTEMIS GLOBAL INCOME CLASS I - INCOME (GBP).html'},\n",
       " {'statement_date': 'D:\\\\MyDocuments\\\\Logs\\\\HL\\\\Investments\\\\2021-09-22',\n",
       "  'filename': 'ARTEMIS US SMALLER COMPANIES CLASS I - ACCUMULATION (GBP).html',\n",
       "  'original_full_path': 'D:\\\\MyDocuments\\\\Logs\\\\HL\\\\Investments\\\\2021-09-22\\\\ARTEMIS US SMALLER COMPANIES CLASS I - ACCUMULATION (GBP).html'},\n",
       " {'statement_date': 'D:\\\\MyDocuments\\\\Logs\\\\HL\\\\Investments\\\\2021-09-22',\n",
       "  'filename': 'ASI ASIA PACIFIC EQUITY CLASS I - ACCUMULATION (GBP).html',\n",
       "  'original_full_path': 'D:\\\\MyDocuments\\\\Logs\\\\HL\\\\Investments\\\\2021-09-22\\\\ASI ASIA PACIFIC EQUITY CLASS I - ACCUMULATION (GBP).html'},\n",
       " {'statement_date': 'D:\\\\MyDocuments\\\\Logs\\\\HL\\\\Investments\\\\2021-09-22',\n",
       "  'filename': 'ASI GLOBAL SMALLER COMPANIES CLASS S - ACCUMULATION (GBP).html',\n",
       "  'original_full_path': 'D:\\\\MyDocuments\\\\Logs\\\\HL\\\\Investments\\\\2021-09-22\\\\ASI GLOBAL SMALLER COMPANIES CLASS S - ACCUMULATION (GBP).html'},\n",
       " {'statement_date': 'D:\\\\MyDocuments\\\\Logs\\\\HL\\\\Investments\\\\2021-09-22',\n",
       "  'filename': 'BAILLIE GIFFORD AMERICAN CLASS B - INCOME (GBP).html',\n",
       "  'original_full_path': 'D:\\\\MyDocuments\\\\Logs\\\\HL\\\\Investments\\\\2021-09-22\\\\BAILLIE GIFFORD AMERICAN CLASS B - INCOME (GBP).html'},\n",
       " {'statement_date': 'D:\\\\MyDocuments\\\\Logs\\\\HL\\\\Investments\\\\2021-09-22',\n",
       "  'filename': 'BAILLIE GIFFORD MANAGED CLASS B - ACCUMULATION (GBP).html',\n",
       "  'original_full_path': 'D:\\\\MyDocuments\\\\Logs\\\\HL\\\\Investments\\\\2021-09-22\\\\BAILLIE GIFFORD MANAGED CLASS B - ACCUMULATION (GBP).html'},\n",
       " {'statement_date': 'D:\\\\MyDocuments\\\\Logs\\\\HL\\\\Investments\\\\2021-09-22',\n",
       "  'filename': 'EDENTREE HIGHER INCOME FUND CLASS B - INCOME (GBP).html',\n",
       "  'original_full_path': 'D:\\\\MyDocuments\\\\Logs\\\\HL\\\\Investments\\\\2021-09-22\\\\EDENTREE HIGHER INCOME FUND CLASS B - INCOME (GBP).html'},\n",
       " {'statement_date': 'D:\\\\MyDocuments\\\\Logs\\\\HL\\\\Investments\\\\2021-09-22',\n",
       "  'filename': 'FIDELITY FIRST EUROPEAN VALUE CLASS Y - ACCUMULATION (EUR).html',\n",
       "  'original_full_path': 'D:\\\\MyDocuments\\\\Logs\\\\HL\\\\Investments\\\\2021-09-22\\\\FIDELITY FIRST EUROPEAN VALUE CLASS Y - ACCUMULATION (EUR).html'},\n",
       " {'statement_date': 'D:\\\\MyDocuments\\\\Logs\\\\HL\\\\Investments\\\\2021-09-22',\n",
       "  'filename': 'FIDELITY GLOBAL TECHNOLOGY CLASS W - ACCUMULATION (GBP).html',\n",
       "  'original_full_path': 'D:\\\\MyDocuments\\\\Logs\\\\HL\\\\Investments\\\\2021-09-22\\\\FIDELITY GLOBAL TECHNOLOGY CLASS W - ACCUMULATION (GBP).html'},\n",
       " {'statement_date': 'D:\\\\MyDocuments\\\\Logs\\\\HL\\\\Investments\\\\2021-09-22',\n",
       "  'filename': 'FIDELITY GLOBAL TECHNOLOGY CLASS Y - ACCUMULATION (EUR).html',\n",
       "  'original_full_path': 'D:\\\\MyDocuments\\\\Logs\\\\HL\\\\Investments\\\\2021-09-22\\\\FIDELITY GLOBAL TECHNOLOGY CLASS Y - ACCUMULATION (EUR).html'},\n",
       " {'statement_date': 'D:\\\\MyDocuments\\\\Logs\\\\HL\\\\Investments\\\\2021-09-22',\n",
       "  'filename': 'FIDELITY INDEX WORLD CLASS P - ACCUMULATION (GBP).html',\n",
       "  'original_full_path': 'D:\\\\MyDocuments\\\\Logs\\\\HL\\\\Investments\\\\2021-09-22\\\\FIDELITY INDEX WORLD CLASS P - ACCUMULATION (GBP).html'},\n",
       " {'statement_date': 'D:\\\\MyDocuments\\\\Logs\\\\HL\\\\Investments\\\\2021-09-22',\n",
       "  'filename': 'FIDELITY SPECIAL SITUATIONS CLASS W - ACCUMULATION (GBP).html',\n",
       "  'original_full_path': 'D:\\\\MyDocuments\\\\Logs\\\\HL\\\\Investments\\\\2021-09-22\\\\FIDELITY SPECIAL SITUATIONS CLASS W - ACCUMULATION (GBP).html'},\n",
       " {'statement_date': 'D:\\\\MyDocuments\\\\Logs\\\\HL\\\\Investments\\\\2021-09-22',\n",
       "  'filename': 'FSSA JAPAN FOCUS CLASS B CLASS B - ACCUMULATION (GBP).html',\n",
       "  'original_full_path': 'D:\\\\MyDocuments\\\\Logs\\\\HL\\\\Investments\\\\2021-09-22\\\\FSSA JAPAN FOCUS CLASS B CLASS B - ACCUMULATION (GBP).html'},\n",
       " {'statement_date': 'D:\\\\MyDocuments\\\\Logs\\\\HL\\\\Investments\\\\2021-09-22',\n",
       "  'filename': 'JUPITER INCOME CLASS Z - INCOME (GBP).html',\n",
       "  'original_full_path': 'D:\\\\MyDocuments\\\\Logs\\\\HL\\\\Investments\\\\2021-09-22\\\\JUPITER INCOME CLASS Z - INCOME (GBP).html'},\n",
       " {'statement_date': 'D:\\\\MyDocuments\\\\Logs\\\\HL\\\\Investments\\\\2021-09-22',\n",
       "  'filename': 'LEGAL & GENERAL ALL STOCKS GILT INDEX TRUST CLASS C - INCOME (GBP).html',\n",
       "  'original_full_path': 'D:\\\\MyDocuments\\\\Logs\\\\HL\\\\Investments\\\\2021-09-22\\\\LEGAL & GENERAL ALL STOCKS GILT INDEX TRUST CLASS C - INCOME (GBP).html'},\n",
       " {'statement_date': 'D:\\\\MyDocuments\\\\Logs\\\\HL\\\\Investments\\\\2021-09-22',\n",
       "  'filename': 'LEGAL & GENERAL UK 100 INDEX TRUST CLASS C - ACCUMULATION (GBP).html',\n",
       "  'original_full_path': 'D:\\\\MyDocuments\\\\Logs\\\\HL\\\\Investments\\\\2021-09-22\\\\LEGAL & GENERAL UK 100 INDEX TRUST CLASS C - ACCUMULATION (GBP).html'},\n",
       " {'statement_date': 'D:\\\\MyDocuments\\\\Logs\\\\HL\\\\Investments\\\\2021-09-22',\n",
       "  'filename': 'LEGAL & GENERAL UK 100 INDEX TRUST CLASS C - INCOME (GBP).html',\n",
       "  'original_full_path': 'D:\\\\MyDocuments\\\\Logs\\\\HL\\\\Investments\\\\2021-09-22\\\\LEGAL & GENERAL UK 100 INDEX TRUST CLASS C - INCOME (GBP).html'},\n",
       " {'statement_date': 'D:\\\\MyDocuments\\\\Logs\\\\HL\\\\Investments\\\\2021-09-22',\n",
       "  'filename': 'LEGAL & GENERAL UK MID CAP INDEX CLASS I - ACCUMULATION (GBP).html',\n",
       "  'original_full_path': 'D:\\\\MyDocuments\\\\Logs\\\\HL\\\\Investments\\\\2021-09-22\\\\LEGAL & GENERAL UK MID CAP INDEX CLASS I - ACCUMULATION (GBP).html'},\n",
       " {'statement_date': 'D:\\\\MyDocuments\\\\Logs\\\\HL\\\\Investments\\\\2021-09-22',\n",
       "  'filename': 'LEGAL & GENERAL US INDEX CLASS C - ACCUMULATION (GBP).html',\n",
       "  'original_full_path': 'D:\\\\MyDocuments\\\\Logs\\\\HL\\\\Investments\\\\2021-09-22\\\\LEGAL & GENERAL US INDEX CLASS C - ACCUMULATION (GBP).html'},\n",
       " {'statement_date': 'D:\\\\MyDocuments\\\\Logs\\\\HL\\\\Investments\\\\2021-09-22',\n",
       "  'filename': 'LF MAJEDIE UK EQUITY CLASS X - ACCUMULATION (GBP).html',\n",
       "  'original_full_path': 'D:\\\\MyDocuments\\\\Logs\\\\HL\\\\Investments\\\\2021-09-22\\\\LF MAJEDIE UK EQUITY CLASS X - ACCUMULATION (GBP).html'},\n",
       " {'statement_date': 'D:\\\\MyDocuments\\\\Logs\\\\HL\\\\Investments\\\\2021-09-22',\n",
       "  'filename': 'LF MAJEDIE UK EQUITY CLASS X - INCOME (GBP).html',\n",
       "  'original_full_path': 'D:\\\\MyDocuments\\\\Logs\\\\HL\\\\Investments\\\\2021-09-22\\\\LF MAJEDIE UK EQUITY CLASS X - INCOME (GBP).html'},\n",
       " {'statement_date': 'D:\\\\MyDocuments\\\\Logs\\\\HL\\\\Investments\\\\2021-09-22',\n",
       "  'filename': 'MAN GLG JAPAN COREALPHA PROFESSIONAL CLASS - INCOME (GBP).html',\n",
       "  'original_full_path': 'D:\\\\MyDocuments\\\\Logs\\\\HL\\\\Investments\\\\2021-09-22\\\\MAN GLG JAPAN COREALPHA PROFESSIONAL CLASS - INCOME (GBP).html'},\n",
       " {'statement_date': 'D:\\\\MyDocuments\\\\Logs\\\\HL\\\\Investments\\\\2021-09-22',\n",
       "  'filename': 'RATHBONE GLOBAL OPPORTUNITIES CLASS S - ACCUMULATION (GBP).html',\n",
       "  'original_full_path': 'D:\\\\MyDocuments\\\\Logs\\\\HL\\\\Investments\\\\2021-09-22\\\\RATHBONE GLOBAL OPPORTUNITIES CLASS S - ACCUMULATION (GBP).html'},\n",
       " {'statement_date': 'D:\\\\MyDocuments\\\\Logs\\\\HL\\\\Investments\\\\2021-09-22',\n",
       "  'filename': 'THREADNEEDLE UK EQUITY INCOME CLASS L- ACCUMULATION (GBP).html',\n",
       "  'original_full_path': 'D:\\\\MyDocuments\\\\Logs\\\\HL\\\\Investments\\\\2021-09-22\\\\THREADNEEDLE UK EQUITY INCOME CLASS L- ACCUMULATION (GBP).html'}]"
      ]
     },
     "execution_count": 5,
     "metadata": {},
     "output_type": "execute_result"
    }
   ],
   "source": [
    "investments_file_path = root + 'Investments\\\\'\n",
    "\n",
    "investments = [{'statement_date': dp\n",
    "            , 'filename': f\n",
    "            , 'original_full_path': os.path.join(dp, f)\n",
    "           }\n",
    "          for dp, dn, filenames in os.walk(investments_file_path) \n",
    "          for f in filenames \n",
    "          if (os.path.splitext(f)[1] == '.html') \n",
    "          and ('_processed' not in os.path.splitext(f)[0])] \n",
    "          \n",
    "# for investment in investments:\n",
    "#     ch = investment['statement_date'].rfind('\\\\', 0, len(investment['statement_date'])) + 1\n",
    "#     statement_date = investment['statement_date'][ch:]\n",
    "#     investment['statement_date'] = statement_date\n",
    "\n",
    "investments"
   ]
  },
  {
   "cell_type": "markdown",
   "metadata": {},
   "source": [
    "#### Accounts"
   ]
  },
  {
   "cell_type": "code",
   "execution_count": null,
   "metadata": {},
   "outputs": [],
   "source": [
    "accounts_file_path = root + 'Account-Summary\\\\'\n",
    "\n",
    "accounts = [{'statement_date': ''\n",
    "             , 'account_type': ''\n",
    "             , 'filename': f\n",
    "             , 'original_full_path': os.path.join(dp, f)\n",
    "            }\n",
    "            for dp, dn, filenames in os.walk(accounts_file_path) \n",
    "            for f in filenames \n",
    "            if (os.path.splitext(f)[1] == '.csv') \n",
    "            and ('_processed' not in os.path.splitext(f)[0])] \n",
    "          \n",
    "for account in accounts:\n",
    "    statement_date = account['filename'][:4] + '-' + account['filename'][4:6] + '-' + account['filename'][6:8]\n",
    "    account['statement_date'] = statement_date\n",
    "    \n",
    "    character_pos_start = account['filename'].find('-', 0, len(account['filename']))\n",
    "    character_pos_end = account['filename'].find('-', character_pos_start+1, len(account['filename']))\n",
    "    account_type = account['filename'][character_pos_start+1:character_pos_end]\n",
    "    account['account_type'] = account_type\n",
    "    \n",
    "# accounts"
   ]
  },
  {
   "cell_type": "markdown",
   "metadata": {},
   "source": [
    "### Process accounts <a name=\"process-accounts\"></a>\n",
    "[Go back to top](#0)"
   ]
  },
  {
   "cell_type": "code",
   "execution_count": null,
   "metadata": {},
   "outputs": [],
   "source": [
    "cols = ['Account_Type', 'Date', 'Code', 'Stock', 'Units', 'Price', 'Value', 'Cost', 'Gain', 'Gain_percent']\n",
    "df_accounts = pd.DataFrame(columns=cols)\n",
    "\n",
    "for account in accounts:\n",
    "    print('Processing file {file}'.format(file=account['original_full_path']))\n",
    "    cols_temp = ['Code', 'Stock', 'Units', 'Price', 'Value', 'Cost', 'Gain', 'Gain_percent']\n",
    "    account_type = account['account_type']\n",
    "    df_temp = pd.read_csv(account['original_full_path'], encoding= 'unicode_escape')\n",
    "    df_temp.columns = cols_temp\n",
    "    \n",
    "    df_temp['Account_Type'] = account_type\n",
    "    df_temp['Date'] = account['statement_date']\n",
    "    df_accounts = pd.concat([df_accounts, df_temp])\n",
    "    \n",
    "\n",
    "df_accounts['Price'] = df_accounts['Price'].str.replace(',', '')\n",
    "df_accounts['Value'] = df_accounts['Value'].str.replace(',', '')\n",
    "df_accounts['Cost'] = df_accounts['Cost'].str.replace(',', '')\n",
    "df_accounts['Gain'] = df_accounts['Gain'].str.replace(',', '')\n",
    "df_accounts['Units'] = df_accounts['Units'].str.replace(',', '')\n",
    "\n",
    "df_accounts = df_accounts.astype({'Price': 'float64'\n",
    "                                  , 'Value': 'float64'\n",
    "                                  , 'Cost': 'float64'\n",
    "                                  , 'Gain': 'float64'\n",
    "                                  , 'Gain_percent': 'float64'\n",
    "                                  , 'Units': 'float64'\n",
    "                                  , 'Date': 'datetime64'\n",
    "                                 })\n",
    "df_accounts['Price'] = df_accounts['Price'] / 100\n",
    "\n",
    "df_accounts.head()"
   ]
  },
  {
   "cell_type": "markdown",
   "metadata": {},
   "source": [
    "### Process investments <a name=\"process-investments\"></a>\n",
    "[Go back to top](#0)"
   ]
  },
  {
   "cell_type": "code",
   "execution_count": null,
   "metadata": {},
   "outputs": [],
   "source": [
    "cols_security = ['Stock', 'Date', 'Security', 'Weight']\n",
    "cols_sector = ['Stock', 'Date', 'Sector', 'Weight']\n",
    "cols_country = ['Stock', 'Date', 'Country', 'Weight']\n",
    "\n",
    "df_security = pd.DataFrame(columns=cols_security)\n",
    "df_sector = pd.DataFrame(columns=cols_sector)\n",
    "df_country = pd.DataFrame(columns=cols_country)\n",
    "\n",
    "for investment in investments:\n",
    "#     print('Processing file [{investment}]...\\n'.format(investment=investment['original_full_path']))\n",
    "    stock = investment['filename'].replace('.html', '')\n",
    "    date = investment['statement_date']\n",
    "#     if investment['filename'] == 'THREADNEEDLE UK EQUITY INCOME CLASS L- ACCUMULATION (GBP).html':\n",
    "    tables_raw = pd.read_html(investment['original_full_path'])\n",
    "    tables = []\n",
    "\n",
    "    for table in tables_raw:\n",
    "        tables.append(table)\n",
    "\n",
    "        idx = 0\n",
    "    for table in tables:\n",
    "        df_temp = pd.DataFrame(table)\n",
    "        df_temp['Stock'] = stock\n",
    "        df_temp['Date'] = date\n",
    "        if 'Security' in df_temp.columns:\n",
    "            df_security = pd.concat([df_security, df_temp])\n",
    "        elif 'Sector' in df_temp.columns:\n",
    "            df_sector = pd.concat([df_sector, df_temp])\n",
    "        elif 'Country' in df_temp.columns:\n",
    "            df_country = pd.concat([df_country, df_temp])\n",
    "\n",
    "\n",
    "        idx +=1\n"
   ]
  },
  {
   "cell_type": "code",
   "execution_count": null,
   "metadata": {},
   "outputs": [],
   "source": [
    "df_security = df_security.astype({'Date': 'datetime64'})\n",
    "df_sector = df_sector.astype({'Date': 'datetime64'})\n",
    "df_country = df_country.astype({'Date': 'datetime64'})"
   ]
  },
  {
   "cell_type": "code",
   "execution_count": null,
   "metadata": {},
   "outputs": [],
   "source": [
    "df_security.head()"
   ]
  },
  {
   "cell_type": "code",
   "execution_count": null,
   "metadata": {},
   "outputs": [],
   "source": [
    "df_sector.head()"
   ]
  },
  {
   "cell_type": "code",
   "execution_count": null,
   "metadata": {},
   "outputs": [],
   "source": [
    "df_country.head()"
   ]
  },
  {
   "cell_type": "markdown",
   "metadata": {},
   "source": [
    "### Security metadata <a name=\"security-metadata\"></a>\n",
    "[Go back to top](#0)"
   ]
  },
  {
   "cell_type": "code",
   "execution_count": null,
   "metadata": {},
   "outputs": [],
   "source": [
    "df_accounts_merge = df_accounts\n",
    "df_accounts_merge['stock_lower'] = df_accounts_merge['Stock'].str.lower()\n",
    "\n",
    "df_security_merge = df_security\n",
    "df_security_merge['stock_lower'] = df_security_merge['Stock'].str.lower()\n",
    "\n",
    "df_security_combined = pd.merge(df_accounts_merge, df_security_merge\n",
    "                                , how='left'\n",
    "                                , on=['Date', 'stock_lower']\n",
    "                                , suffixes=[None, '_y']\n",
    "                               )"
   ]
  },
  {
   "cell_type": "code",
   "execution_count": null,
   "metadata": {},
   "outputs": [],
   "source": [
    "df_security_combined.drop(['Stock_y', 'stock_lower'], axis=1, inplace=True)"
   ]
  },
  {
   "cell_type": "markdown",
   "metadata": {},
   "source": [
    "#### Inspect security data for missing values"
   ]
  },
  {
   "cell_type": "code",
   "execution_count": null,
   "metadata": {},
   "outputs": [],
   "source": [
    "# df_security_combined.loc[df_security_combined['Security'].isnull(), ['Account_Type', 'Date', 'Stock']]"
   ]
  },
  {
   "cell_type": "code",
   "execution_count": null,
   "metadata": {},
   "outputs": [],
   "source": [
    "df_security_combined = df_security_combined.loc[df_security_combined['Security'].notnull()]"
   ]
  },
  {
   "cell_type": "markdown",
   "metadata": {},
   "source": [
    "#### Populate security value and sub-df"
   ]
  },
  {
   "cell_type": "code",
   "execution_count": null,
   "metadata": {},
   "outputs": [],
   "source": [
    "df_security_combined['Security_Value'] = pd.to_numeric(df_security_combined['Weight']\n",
    "                                                       .str.replace('%', ''))/100 * df_security_combined['Value']"
   ]
  },
  {
   "cell_type": "code",
   "execution_count": null,
   "metadata": {},
   "outputs": [],
   "source": [
    "df_security_combined.head()"
   ]
  },
  {
   "cell_type": "code",
   "execution_count": null,
   "metadata": {},
   "outputs": [],
   "source": [
    "df_security_analysis = df_security_combined.groupby(['Date', 'Security']).sum('Security_Value').reset_index()\n",
    "cols = ['Date', 'Security', 'Security_Value']\n",
    "df_security_analysis = df_security_analysis[cols]"
   ]
  },
  {
   "cell_type": "code",
   "execution_count": null,
   "metadata": {},
   "outputs": [],
   "source": [
    "df_security_analysis.head()"
   ]
  },
  {
   "cell_type": "code",
   "execution_count": null,
   "metadata": {},
   "outputs": [],
   "source": []
  }
 ],
 "metadata": {
  "kernelspec": {
   "display_name": "Python 3 (ipykernel)",
   "language": "python",
   "name": "python3"
  },
  "language_info": {
   "codemirror_mode": {
    "name": "ipython",
    "version": 3
   },
   "file_extension": ".py",
   "mimetype": "text/x-python",
   "name": "python",
   "nbconvert_exporter": "python",
   "pygments_lexer": "ipython3",
   "version": "3.9.7"
  }
 },
 "nbformat": 4,
 "nbformat_minor": 2
}
